{
  "nbformat": 4,
  "nbformat_minor": 0,
  "metadata": {
    "colab": {
      "name": "Moierphases.ipynb",
      "provenance": [],
      "authorship_tag": "ABX9TyOzaShYXihy1wBVckpiM2Pz",
      "include_colab_link": true
    },
    "kernelspec": {
      "name": "python3",
      "display_name": "Python 3"
    },
    "language_info": {
      "name": "python"
    }
  },
  "cells": [
    {
      "cell_type": "markdown",
      "metadata": {
        "id": "view-in-github",
        "colab_type": "text"
      },
      "source": [
        "<a href=\"https://colab.research.google.com/github/rohith033/FASTapi/blob/main/Moierphases.ipynb\" target=\"_parent\"><img src=\"https://colab.research.google.com/assets/colab-badge.svg\" alt=\"Open In Colab\"/></a>"
      ]
    },
    {
      "cell_type": "code",
      "execution_count": 19,
      "metadata": {
        "id": "iTarKnFpWUtK"
      },
      "outputs": [],
      "source": [
        "import cv2\n"
      ]
    },
    {
      "cell_type": "markdown",
      "source": [
        "import numpy as np\n",
        "import cv2\n",
        "from matplotlib import pyplot as plt\n",
        "\n",
        "img=cv2.imread('orginal.png')\n",
        "img = cv2.cvtColor(img,cv2.COLOR_BGR2GRAY)\n",
        "dft = np.fft.fft2(img)\n",
        "dft_shift = np.fft.fftshift(dft)\n",
        "phase_spectrum = np.angle(dft_shift)\n",
        "\n",
        "ax1 = plt.subplot(1,2,1)\n",
        "ax1.imshow(img, cmap='gray')\n",
        "\n",
        "ax2 = plt.subplot(1,2,2)\n",
        "ax2.imshow(phase_spectrum, cmap='gray')\n",
        "\n",
        "plt.show()"
      ],
      "metadata": {
        "id": "3TQQRPJAWneD"
      }
    },
    {
      "cell_type": "code",
      "source": [
        "import numpy as np\n",
        "# import cv2\n",
        "from matplotlib import pyplot as plt\n",
        "from cv2 import cvtColor\n",
        "\n",
        "img=cv2.imread('deformed_interpollated1.png')\n",
        "img = cv2.cvtColor(img,cv2.COLOR_BGR2GRAY)\n",
        "dft = np.fft.fft2(img)\n",
        "dft_shift = np.fft.fftshift(dft)\n",
        "phase_spectrum = np.angle(dft_shift)\n",
        "\n",
        "ax1 = plt.subplot(1,2,1)\n",
        "ax1.imshow(img, cmap='gray')\n",
        "\n",
        "ax2 = plt.subplot(1,2,2)\n",
        "ax2.imshow(phase_spectrum, cmap='gray')\n",
        "deformed_phasespectrum = phase_spectrum\n",
        "\n",
        "plt.show()"
      ],
      "metadata": {
        "colab": {
          "base_uri": "https://localhost:8080/",
          "height": 204
        },
        "id": "VkUxi8PvWte2",
        "outputId": "209e6de7-f514-48c2-f193-3e9d101cd791"
      },
      "execution_count": 23,
      "outputs": [
        {
          "output_type": "display_data",
          "data": {
            "text/plain": [
              "<Figure size 432x288 with 2 Axes>"
            ],
            "image/png": "[encoded data removed]"
          },
          "metadata": {
            "needs_background": "light"
          }
        }
      ]
    },
    {
      "cell_type": "code",
      "source": [
        ""
      ],
      "metadata": {
        "id": "3RDboMwHaz3E"
      },
      "execution_count": null,
      "outputs": []
    },
    {
      "cell_type": "code",
      "source": [
        "import numpy as np\n",
        "# import cv2\n",
        "from matplotlib import pyplot as plt\n",
        "from cv2 import cvtColor\n",
        "\n",
        "img=cv2.imread('orginal_interpollated1.png')\n",
        "img = cv2.cvtColor(img,cv2.COLOR_BGR2GRAY)\n",
        "dft = np.fft.fft2(img)\n",
        "dft_shift = np.fft.fftshift(dft)\n",
        "phase_spectrum = np.angle(dft_shift)\n",
        "orginal_phasespectrum = phase_spectrum\n",
        "ax1 = plt.subplot(1,2,1)\n",
        "ax1.imshow(img, cmap='gray')\n",
        "\n",
        "ax2 = plt.subplot(1,2,2)\n",
        "ax2.imshow(phase_spectrum, cmap='gray')\n",
        "\n",
        "plt.show()"
      ],
      "metadata": {
        "colab": {
          "base_uri": "https://localhost:8080/",
          "height": 204
        },
        "id": "3i0hCnvrX0Zz",
        "outputId": "b384bfe7-3498-4b30-8d53-81183b11f4f2"
      },
      "execution_count": 28,
      "outputs": [
        {
          "output_type": "display_data",
          "data": {
            "text/plain": [
              "<Figure size 432x288 with 2 Axes>"
            ],
            "image/png": "[encoded data removed]"
          },
          "metadata": {
            "needs_background": "light"
          }
        }
      ]
    },
    {
      "cell_type": "code",
      "source": [
        "phase_difference = orginal_phasespectrum - deformed_phasespectrum\n",
        "print(phase_difference)\n",
        "ax1 = plt.subplot(1,2,1)\n",
        "ax1.imshow(phase_difference,cmap='gray')"
      ],
      "metadata": {
        "colab": {
          "base_uri": "https://localhost:8080/",
          "height": 343
        },
        "id": "HNoseb8Oa1Ts",
        "outputId": "5a29db4a-099f-4f7a-c5c6-566d93173668"
      },
      "execution_count": 29,
      "outputs": [
        {
          "output_type": "stream",
          "name": "stdout",
          "text": [
            "[[0. 0. 0. ... 0. 0. 0.]\n",
            " [0. 0. 0. ... 0. 0. 0.]\n",
            " [0. 0. 0. ... 0. 0. 0.]\n",
            " ...\n",
            " [0. 0. 0. ... 0. 0. 0.]\n",
            " [0. 0. 0. ... 0. 0. 0.]\n",
            " [0. 0. 0. ... 0. 0. 0.]]\n"
          ]
        },
        {
          "output_type": "execute_result",
          "data": {
            "text/plain": [
              "<matplotlib.image.AxesImage at 0x7f61f9b45cd0>"
            ]
          },
          "metadata": {},
          "execution_count": 29
        },
        {
          "output_type": "display_data",
          "data": {
            "text/plain": [
              "<Figure size 432x288 with 1 Axes>"
            ],
            "image/png": "[encoded data removed]"
          },
          "metadata": {
            "needs_background": "light"
          }
        }
      ]
    }
  ]
}